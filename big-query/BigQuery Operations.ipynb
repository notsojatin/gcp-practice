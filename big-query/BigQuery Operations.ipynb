{
 "cells": [
  {
   "cell_type": "markdown",
   "id": "d87020b7",
   "metadata": {},
   "source": [
    "# Big Query Operations"
   ]
  },
  {
   "cell_type": "code",
   "execution_count": 1,
   "id": "a8bb0ede",
   "metadata": {},
   "outputs": [],
   "source": [
    "#!pip install --upgrade 'google-cloud-bigquery[pandas]'\n",
    "\n",
    "from google.cloud import bigquery\n",
    "from google.oauth2 import service_account\n",
    "from google.cloud.exceptions import Conflict"
   ]
  },
  {
   "cell_type": "code",
   "execution_count": 2,
   "id": "e69833ac",
   "metadata": {},
   "outputs": [],
   "source": [
    "#path to your service account credentials\n",
    "\n",
    "SERVICE_ACCOUNT_PATH='cred/big-query-service-acct.json' #update service account path"
   ]
  },
  {
   "cell_type": "code",
   "execution_count": 3,
   "id": "e53b8f00",
   "metadata": {},
   "outputs": [],
   "source": [
    "# create gcp client by providing credentials and project_id to interact with BigQuery\n",
    "\n",
    "credentials = service_account.Credentials.from_service_account_file(SERVICE_ACCOUNT_PATH)\n",
    "project_id = '**********' #update project_id as per your requirement\n",
    "client = bigquery.Client(credentials= credentials,project=project_id)"
   ]
  },
  {
   "cell_type": "code",
   "execution_count": 4,
   "id": "cc512b9b",
   "metadata": {},
   "outputs": [
    {
     "name": "stdout",
     "output_type": "stream",
     "text": [
      "Row(('TX', 'F', 1910, 'Frances', 197), {'state': 0, 'gender': 1, 'year': 2, 'name': 3, 'number': 4})\n",
      "Row(('TX', 'F', 1910, 'Alice', 149), {'state': 0, 'gender': 1, 'year': 2, 'name': 3, 'number': 4})\n",
      "Row(('TX', 'F', 1910, 'Beatrice', 123), {'state': 0, 'gender': 1, 'year': 2, 'name': 3, 'number': 4})\n",
      "Row(('TX', 'F', 1910, 'Ella', 102), {'state': 0, 'gender': 1, 'year': 2, 'name': 3, 'number': 4})\n",
      "Row(('TX', 'F', 1910, 'Gertrude', 97), {'state': 0, 'gender': 1, 'year': 2, 'name': 3, 'number': 4})\n",
      "Row(('TX', 'F', 1910, 'Josephine', 86), {'state': 0, 'gender': 1, 'year': 2, 'name': 3, 'number': 4})\n",
      "Row(('TX', 'F', 1910, 'Lula', 77), {'state': 0, 'gender': 1, 'year': 2, 'name': 3, 'number': 4})\n",
      "Row(('TX', 'F', 1910, 'Blanche', 50), {'state': 0, 'gender': 1, 'year': 2, 'name': 3, 'number': 4})\n",
      "Row(('TX', 'F', 1910, 'Marjorie', 40), {'state': 0, 'gender': 1, 'year': 2, 'name': 3, 'number': 4})\n",
      "Row(('TX', 'F', 1910, 'Christine', 34), {'state': 0, 'gender': 1, 'year': 2, 'name': 3, 'number': 4})\n"
     ]
    }
   ],
   "source": [
    "#Query data from BigQuery Tables\n",
    "\n",
    "QUERY ='''\n",
    "        SELECT * FROM `bigquery-public-data.usa_names.usa_1910_2013`\n",
    "        WHERE state = \"TX\"\n",
    "        LIMIT 10\n",
    "'''\n",
    "query_job = client.query(QUERY)\n",
    "\n",
    "for row in query_job.result():\n",
    "    print(row)"
   ]
  },
  {
   "cell_type": "code",
   "execution_count": 5,
   "id": "684c0acd",
   "metadata": {},
   "outputs": [
    {
     "data": {
      "text/html": [
       "<div>\n",
       "<style scoped>\n",
       "    .dataframe tbody tr th:only-of-type {\n",
       "        vertical-align: middle;\n",
       "    }\n",
       "\n",
       "    .dataframe tbody tr th {\n",
       "        vertical-align: top;\n",
       "    }\n",
       "\n",
       "    .dataframe thead th {\n",
       "        text-align: right;\n",
       "    }\n",
       "</style>\n",
       "<table border=\"1\" class=\"dataframe\">\n",
       "  <thead>\n",
       "    <tr style=\"text-align: right;\">\n",
       "      <th></th>\n",
       "      <th>state</th>\n",
       "      <th>gender</th>\n",
       "      <th>year</th>\n",
       "      <th>name</th>\n",
       "      <th>number</th>\n",
       "    </tr>\n",
       "  </thead>\n",
       "  <tbody>\n",
       "    <tr>\n",
       "      <th>0</th>\n",
       "      <td>TX</td>\n",
       "      <td>F</td>\n",
       "      <td>1910</td>\n",
       "      <td>Frances</td>\n",
       "      <td>197</td>\n",
       "    </tr>\n",
       "    <tr>\n",
       "      <th>1</th>\n",
       "      <td>TX</td>\n",
       "      <td>F</td>\n",
       "      <td>1910</td>\n",
       "      <td>Alice</td>\n",
       "      <td>149</td>\n",
       "    </tr>\n",
       "    <tr>\n",
       "      <th>2</th>\n",
       "      <td>TX</td>\n",
       "      <td>F</td>\n",
       "      <td>1910</td>\n",
       "      <td>Beatrice</td>\n",
       "      <td>123</td>\n",
       "    </tr>\n",
       "    <tr>\n",
       "      <th>3</th>\n",
       "      <td>TX</td>\n",
       "      <td>F</td>\n",
       "      <td>1910</td>\n",
       "      <td>Ella</td>\n",
       "      <td>102</td>\n",
       "    </tr>\n",
       "    <tr>\n",
       "      <th>4</th>\n",
       "      <td>TX</td>\n",
       "      <td>F</td>\n",
       "      <td>1910</td>\n",
       "      <td>Gertrude</td>\n",
       "      <td>97</td>\n",
       "    </tr>\n",
       "    <tr>\n",
       "      <th>5</th>\n",
       "      <td>TX</td>\n",
       "      <td>F</td>\n",
       "      <td>1910</td>\n",
       "      <td>Josephine</td>\n",
       "      <td>86</td>\n",
       "    </tr>\n",
       "    <tr>\n",
       "      <th>6</th>\n",
       "      <td>TX</td>\n",
       "      <td>F</td>\n",
       "      <td>1910</td>\n",
       "      <td>Lula</td>\n",
       "      <td>77</td>\n",
       "    </tr>\n",
       "    <tr>\n",
       "      <th>7</th>\n",
       "      <td>TX</td>\n",
       "      <td>F</td>\n",
       "      <td>1910</td>\n",
       "      <td>Blanche</td>\n",
       "      <td>50</td>\n",
       "    </tr>\n",
       "    <tr>\n",
       "      <th>8</th>\n",
       "      <td>TX</td>\n",
       "      <td>F</td>\n",
       "      <td>1910</td>\n",
       "      <td>Marjorie</td>\n",
       "      <td>40</td>\n",
       "    </tr>\n",
       "    <tr>\n",
       "      <th>9</th>\n",
       "      <td>TX</td>\n",
       "      <td>F</td>\n",
       "      <td>1910</td>\n",
       "      <td>Christine</td>\n",
       "      <td>34</td>\n",
       "    </tr>\n",
       "  </tbody>\n",
       "</table>\n",
       "</div>"
      ],
      "text/plain": [
       "  state gender  year       name  number\n",
       "0    TX      F  1910    Frances     197\n",
       "1    TX      F  1910      Alice     149\n",
       "2    TX      F  1910   Beatrice     123\n",
       "3    TX      F  1910       Ella     102\n",
       "4    TX      F  1910   Gertrude      97\n",
       "5    TX      F  1910  Josephine      86\n",
       "6    TX      F  1910       Lula      77\n",
       "7    TX      F  1910    Blanche      50\n",
       "8    TX      F  1910   Marjorie      40\n",
       "9    TX      F  1910  Christine      34"
      ]
     },
     "execution_count": 5,
     "metadata": {},
     "output_type": "execute_result"
    }
   ],
   "source": [
    "#Convert BigQuery result to Pandas DataFrame\n",
    "\n",
    "dataframe = query_job.result().to_dataframe()\n",
    "dataframe"
   ]
  },
  {
   "cell_type": "code",
   "execution_count": 6,
   "id": "e40d8668",
   "metadata": {},
   "outputs": [],
   "source": [
    "def create_data_set(bq_client,dataset_name,dataset_location='US'):\n",
    "    '''\n",
    "    Create Dataset in BigQuery \n",
    "    \n",
    "    bq_client : BigQuery Client to interact with big query services\n",
    "    dataset_name : name of dataset\n",
    "    dataset_location : location of your dataset; defaults to US\n",
    "    '''\n",
    "    \n",
    "#     dataset = bigquery.Dataset(dataset_name)\n",
    "\n",
    "    try:\n",
    "        dataset = bq_client.create_dataset(dataset_name, timeout=30)\n",
    "        print(\"Created dataset {}.{}\".format(dataset.project, dataset.dataset_id))\n",
    "        \n",
    "    except Conflict:\n",
    "        print(\"Dataset already exist\")\n",
    "\n",
    "    except Exception as err:\n",
    "        print(type(err).__name__)\n",
    "        print(\"Exception occured\")\n",
    "        print(err)"
   ]
  },
  {
   "cell_type": "code",
   "execution_count": 7,
   "id": "3421be76",
   "metadata": {},
   "outputs": [],
   "source": [
    "def createTable(bq_client,dataset_name,table_name,schema):\n",
    "    '''\n",
    "    Create table in BigQuery \n",
    "    \n",
    "    bq_client : BigQuery Client to interact with big query services\n",
    "    dataset_name : name of dataset\n",
    "    table_name : name of table\n",
    "    schema : schema of the table\n",
    "    '''\n",
    "    \n",
    "    table_id = f\"{bq_client.project}.{dataset_name}.{table_name}\"\n",
    "    table = bigquery.Table(table_id, schema=schema)\n",
    "    \n",
    "    try:\n",
    "        table = bq_client.create_table(table)\n",
    "        print(f\"Created table {table.project}.{table.dataset_id}.{table.table_id}\")\n",
    "\n",
    "    except Conflict:\n",
    "        print(\"Table already exist\")\n",
    "\n",
    "    except Exception as err:\n",
    "        print(type(err).__name__)\n",
    "        print(\"Exception occured\")"
   ]
  },
  {
   "cell_type": "code",
   "execution_count": 8,
   "id": "2d5eba8b",
   "metadata": {},
   "outputs": [
    {
     "name": "stdout",
     "output_type": "stream",
     "text": [
      "Created dataset triple-access-349104.python_dataset2\n"
     ]
    },
    {
     "data": {
      "text/plain": [
       "Dataset(DatasetReference('triple-access-349104', 'python_dataset2'))"
      ]
     },
     "execution_count": 8,
     "metadata": {},
     "output_type": "execute_result"
    }
   ],
   "source": [
    "#creating dataset in bigquery\n",
    "\n",
    "DATASET_NAME='python_dataset2' #update dataset_name as per your requirement\n",
    "\n",
    "create_data_set(client,DATASET_NAME) #create dataset\n",
    "\n",
    "client.get_dataset(DATASET_NAME) #check if dataset is created in project"
   ]
  },
  {
   "cell_type": "code",
   "execution_count": 9,
   "id": "b9cdff86",
   "metadata": {},
   "outputs": [
    {
     "name": "stdout",
     "output_type": "stream",
     "text": [
      "Created table triple-access-349104.python_dataset2.demo_table2\n"
     ]
    },
    {
     "data": {
      "text/plain": [
       "Table(TableReference(DatasetReference('triple-access-349104', 'python_dataset2'), 'demo_table2'))"
      ]
     },
     "execution_count": 9,
     "metadata": {},
     "output_type": "execute_result"
    }
   ],
   "source": [
    "#creating table in bigquery\n",
    "\n",
    "TABLE_NAME='demo_table2' #update table_name as per your requirement\n",
    "\n",
    "schema = [\n",
    "    bigquery.SchemaField(\"name\", \"STRING\"),\n",
    "    bigquery.SchemaField(\"age\", \"INTEGER\"),\n",
    "    bigquery.SchemaField(\"city\", \"STRING\"),\n",
    "]\n",
    "\n",
    "createTable(client,DATASET_NAME,TABLE_NAME,schema) #create table\n",
    "\n",
    "client.get_table(f\"{DATASET_NAME}.{TABLE_NAME}\") #check if table is created in Dataset"
   ]
  },
  {
   "cell_type": "code",
   "execution_count": 10,
   "id": "030b49d0",
   "metadata": {},
   "outputs": [
    {
     "name": "stdout",
     "output_type": "stream",
     "text": [
      "This query will process 62.88 MB.\n"
     ]
    }
   ],
   "source": [
    "#checking total size processed by a query\n",
    "\n",
    "job_config = bigquery.QueryJobConfig(dry_run=True, use_query_cache=False)\n",
    "\n",
    "query_job = client.query('''\n",
    "    SELECT name, COUNT(*) as name_count\n",
    "    FROM `bigquery-public-data.usa_names.usa_1910_2013`\n",
    "    WHERE state = 'WA'\n",
    "    GROUP BY name''',\n",
    "    job_config=job_config,\n",
    ")\n",
    "\n",
    "print(f\"This query will process {query_job.total_bytes_processed/2**20:.2f} MB.\")"
   ]
  },
  {
   "cell_type": "code",
   "execution_count": null,
   "id": "31879db3",
   "metadata": {},
   "outputs": [],
   "source": []
  }
 ],
 "metadata": {
  "kernelspec": {
   "display_name": "Python 3 (ipykernel)",
   "language": "python",
   "name": "python3"
  },
  "language_info": {
   "codemirror_mode": {
    "name": "ipython",
    "version": 3
   },
   "file_extension": ".py",
   "mimetype": "text/x-python",
   "name": "python",
   "nbconvert_exporter": "python",
   "pygments_lexer": "ipython3",
   "version": "3.7.9"
  }
 },
 "nbformat": 4,
 "nbformat_minor": 5
}
